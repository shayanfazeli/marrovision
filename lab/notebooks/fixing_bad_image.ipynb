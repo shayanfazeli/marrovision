{
 "cells": [
  {
   "cell_type": "code",
   "execution_count": 1,
   "id": "af3fc5f9-070b-4b8f-b9dc-dd83fe9e3ada",
   "metadata": {},
   "outputs": [
    {
     "name": "stderr",
     "output_type": "stream",
     "text": [
      "/home/shayan/anaconda3/envs/vision/lib/python3.9/site-packages/tqdm/auto.py:22: TqdmWarning: IProgress not found. Please update jupyter and ipywidgets. See https://ipywidgets.readthedocs.io/en/stable/user_install.html\n",
      "  from .autonotebook import tqdm as notebook_tqdm\n",
      "100%|████████████████████████████████████| 34281/34281 [00:36<00:00, 932.09it/s]\n",
      "0it [00:00, ?it/s]\n"
     ]
    }
   ],
   "source": [
    "root_dir = '/home/shayan/data/benchmark_bm_cytomorphology/test/'\n",
    "from torchvision.datasets import ImageFolder\n",
    "import mmcv\n",
    "import torch\n",
    "from tqdm import tqdm\n",
    "from PIL import Image\n",
    "dataset = ImageFolder(root_dir)\n",
    "bad_ps = []\n",
    "for k in tqdm(dataset.samples):\n",
    "    p = k[0]\n",
    "    with open(p, 'rb') as handle:\n",
    "        try:\n",
    "            Image.open(p).convert(\"RGB\")\n",
    "        except:\n",
    "            bad_ps.append(p)\n",
    "for p in tqdm(bad_ps):\n",
    "    data = mmcv.imread(p, channel_order='rgb')\n",
    "    mmcv.imwrite(data, p)"
   ]
  },
  {
   "cell_type": "code",
   "execution_count": 2,
   "id": "e07b983a-decd-40d3-b460-3c02f698db51",
   "metadata": {},
   "outputs": [
    {
     "name": "stderr",
     "output_type": "stream",
     "text": [
      "100%|██████████████████████████████████| 137093/137093 [02:27<00:00, 928.79it/s]\n",
      "  0%|                                                     | 0/1 [00:00<?, ?it/s]\n"
     ]
    },
    {
     "ename": "NameError",
     "evalue": "name 'mmcv' is not defined",
     "output_type": "error",
     "traceback": [
      "\u001b[0;31m---------------------------------------------------------------------------\u001b[0m",
      "\u001b[0;31mNameError\u001b[0m                                 Traceback (most recent call last)",
      "\u001b[0;32m/tmp/ipykernel_30684/3092944317.py\u001b[0m in \u001b[0;36m<module>\u001b[0;34m\u001b[0m\n\u001b[1;32m     14\u001b[0m             \u001b[0mbad_ps\u001b[0m\u001b[0;34m.\u001b[0m\u001b[0mappend\u001b[0m\u001b[0;34m(\u001b[0m\u001b[0mp\u001b[0m\u001b[0;34m)\u001b[0m\u001b[0;34m\u001b[0m\u001b[0;34m\u001b[0m\u001b[0m\n\u001b[1;32m     15\u001b[0m \u001b[0;32mfor\u001b[0m \u001b[0mp\u001b[0m \u001b[0;32min\u001b[0m \u001b[0mtqdm\u001b[0m\u001b[0;34m(\u001b[0m\u001b[0mbad_ps\u001b[0m\u001b[0;34m)\u001b[0m\u001b[0;34m:\u001b[0m\u001b[0;34m\u001b[0m\u001b[0;34m\u001b[0m\u001b[0m\n\u001b[0;32m---> 16\u001b[0;31m     \u001b[0mdata\u001b[0m \u001b[0;34m=\u001b[0m \u001b[0mmmcv\u001b[0m\u001b[0;34m.\u001b[0m\u001b[0mimread\u001b[0m\u001b[0;34m(\u001b[0m\u001b[0mp\u001b[0m\u001b[0;34m,\u001b[0m \u001b[0mchannel_order\u001b[0m\u001b[0;34m=\u001b[0m\u001b[0;34m'rgb'\u001b[0m\u001b[0;34m)\u001b[0m\u001b[0;34m\u001b[0m\u001b[0;34m\u001b[0m\u001b[0m\n\u001b[0m\u001b[1;32m     17\u001b[0m     \u001b[0mmmcv\u001b[0m\u001b[0;34m.\u001b[0m\u001b[0mimwrite\u001b[0m\u001b[0;34m(\u001b[0m\u001b[0mdata\u001b[0m\u001b[0;34m,\u001b[0m \u001b[0mp\u001b[0m\u001b[0;34m)\u001b[0m\u001b[0;34m\u001b[0m\u001b[0;34m\u001b[0m\u001b[0m\n",
      "\u001b[0;31mNameError\u001b[0m: name 'mmcv' is not defined"
     ]
    }
   ],
   "source": [
    "root_dir = '/home/shayan/data/benchmark_bm_cytomorphology/train/'\n",
    "from torchvision.datasets import ImageFolder\n",
    "import torch\n",
    "from tqdm import tqdm\n",
    "from PIL import Image\n",
    "dataset = ImageFolder(root_dir)\n",
    "bad_ps = []\n",
    "for k in tqdm(dataset.samples):\n",
    "    p = k[0]\n",
    "    with open(p, 'rb') as handle:\n",
    "        try:\n",
    "            Image.open(p).convert(\"RGB\")\n",
    "        except:\n",
    "            bad_ps.append(p)\n",
    "for p in tqdm(bad_ps):\n",
    "    data = mmcv.imread(p, channel_order='rgb')\n",
    "    mmcv.imwrite(data, p)"
   ]
  }
 ],
 "metadata": {
  "kernelspec": {
   "display_name": "Python 3 (ipykernel)",
   "language": "python",
   "name": "python3"
  },
  "language_info": {
   "codemirror_mode": {
    "name": "ipython",
    "version": 3
   },
   "file_extension": ".py",
   "mimetype": "text/x-python",
   "name": "python",
   "nbconvert_exporter": "python",
   "pygments_lexer": "ipython3",
   "version": "3.9.7"
  }
 },
 "nbformat": 4,
 "nbformat_minor": 5
}
