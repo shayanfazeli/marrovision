{
 "cells": [
  {
   "cell_type": "code",
   "execution_count": 1,
   "id": "7aaa16a9-76b3-482c-b23d-c99a59675007",
   "metadata": {},
   "outputs": [
    {
     "name": "stderr",
     "output_type": "stream",
     "text": [
      "2022-03-18 15:05:40,814 - apex.transformer.tensor_parallel - WARNING - `fused_weight_gradient_mlp_cuda` module not found. gradient accumulation fusion with weight gradient computation disabled.\n"
     ]
    }
   ],
   "source": [
    "import os\n",
    "import numpy\n",
    "import mmcv\n",
    "import torch\n",
    "import matplotlib.pyplot as plt\n",
    "import sklearn\n",
    "import pickle\n",
    "import pandas\n",
    "import gzip\n",
    "import sys\n",
    "import plotly_express as px\n",
    "import plotly.graph_objects as go\n",
    "sys.path.insert(0, os.path.abspath('../../'))\n",
    "from marrovision.cortex.data.bone_marrow.utilities import get_results_comparison_table\n",
    "import os\n",
    "import torch\n",
    "import torch.distributed\n",
    "import argparse\n",
    "import logging\n",
    "import marrovision.cortex.data as data_lib\n",
    "import marrovision.cortex.model as model_lib\n",
    "import marrovision.cortex.trainer as trainer_lib\n",
    "from marrovision.utilities.checkpointing.get_start_epoch import get_start_epoch\n",
    "from marrovision.utilities.device import get_device\n",
    "from marrovision.utilities.io.files_and_folders import clean_folder\n",
    "from marrovision.utilities.randomization.seed import fix_random_seeds\n",
    "from marrovision.contrib.mmcv import Config\n",
    "from marrovision.utilities.argument_parsing.train import train_parser\n",
    "from marrovision.cortex.data.bone_marrow.transformations import eval_transform_1"
   ]
  },
  {
   "cell_type": "code",
   "execution_count": 2,
   "id": "f3946d50-a265-4200-9122-cc9c7620f6b3",
   "metadata": {},
   "outputs": [],
   "source": [
    "config_path = os.path.abspath(os.path.join('../configs/resnet/resnext50_32x4d.py'))"
   ]
  },
  {
   "cell_type": "code",
   "execution_count": 4,
   "id": "47fe8146-0aeb-424d-b83c-ced6e6714957",
   "metadata": {},
   "outputs": [],
   "source": [
    "config = dict(Config.fromfile(config_path))"
   ]
  },
  {
   "cell_type": "code",
   "execution_count": 6,
   "id": "620e757d-9598-4ea1-982f-8da041b976ca",
   "metadata": {},
   "outputs": [],
   "source": [
    "device = torch.device('cpu')"
   ]
  },
  {
   "cell_type": "code",
   "execution_count": 7,
   "id": "7f9efb86-e1f4-41b6-a10a-faed34f405fb",
   "metadata": {},
   "outputs": [
    {
     "name": "stdout",
     "output_type": "stream",
     "text": [
      "~> preparing the model (model type: ClassifierWithTorchvisionBackbone)...\n",
      "\n"
     ]
    }
   ],
   "source": [
    "print(f\"~> preparing the model (model type: {config['model']['type']})...\\n\")\n",
    "model = getattr(model_lib, config['model']['type'])(\n",
    "    config=config['model']['config'],\n",
    "    device=device\n",
    ").to(device)"
   ]
  },
  {
   "cell_type": "code",
   "execution_count": 13,
   "id": "ccc3ec89-24e9-4dbf-b7db-d59d78ee8fba",
   "metadata": {},
   "outputs": [],
   "source": [
    "ckpt = torch.load(os.path.join(config['trainer']['config']['checkpointing']['repo'], 'ckpt_latest.pth'), map_location='cpu')\n",
    "stats = torch.load(os.path.join(config['trainer']['config']['checkpointing']['repo'], 'stats_latest-rank0.pth'), map_location='cpu')\n",
    "label_layout = stats['test'][0]['label_layout']['labels']\n",
    "model.load_state_dict(ckpt['model'])"
   ]
  },
  {
   "cell_type": "code",
   "execution_count": 46,
   "id": "37998e00-2726-4909-bb65-255696be200b",
   "metadata": {},
   "outputs": [],
   "source": [
    "img = mmcv.imread('/data/marrovision/BM_cytomorphology_data/BAS/BAS_00001.jpg', channel_order='rgb')"
   ]
  },
  {
   "cell_type": "code",
   "execution_count": 47,
   "id": "509e70c0-377b-4b65-bf74-03716bcfd39a",
   "metadata": {},
   "outputs": [
    {
     "data": {
      "text/plain": [
       "'BAS'"
      ]
     },
     "execution_count": 47,
     "metadata": {},
     "output_type": "execute_result"
    }
   ],
   "source": [
    "[label_layout[e] for e in model.forward({'image': eval_transform_1()(img).unsqueeze(0), 'label_index': torch.zeros(1).long()}, mode='test')['model_outputs']['y_hat'].tolist()][0]"
   ]
  }
 ],
 "metadata": {
  "kernelspec": {
   "display_name": "Python 3 (ipykernel)",
   "language": "python",
   "name": "python3"
  },
  "language_info": {
   "codemirror_mode": {
    "name": "ipython",
    "version": 3
   },
   "file_extension": ".py",
   "mimetype": "text/x-python",
   "name": "python",
   "nbconvert_exporter": "python",
   "pygments_lexer": "ipython3",
   "version": "3.9.7"
  }
 },
 "nbformat": 4,
 "nbformat_minor": 5
}
